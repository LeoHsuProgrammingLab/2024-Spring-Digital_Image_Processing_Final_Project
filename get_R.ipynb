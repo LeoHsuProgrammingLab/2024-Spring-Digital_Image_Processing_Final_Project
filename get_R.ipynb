{
 "cells": [
  {
   "cell_type": "code",
   "execution_count": 41,
   "metadata": {},
   "outputs": [],
   "source": [
    "import cv2\n",
    "import matplotlib.pyplot as plt\n",
    "import numpy as np\n",
    "import matplotlib.patches as patches\n",
    "import pandas as pd\n",
    "import os"
   ]
  },
  {
   "cell_type": "code",
   "execution_count": 6,
   "metadata": {},
   "outputs": [],
   "source": [
    "def load_data_from_file(filename):\n",
    "    keypoints = []\n",
    "    descriptors = []\n",
    "    \n",
    "    with open(filename, 'r') as file:\n",
    "        lines = file.readlines()[2:]  \n",
    "        \n",
    "    for line in lines:\n",
    "        numbers = list(map(float, line.split()))\n",
    "        keypoints.append(numbers[0:5])\n",
    "        descriptors.append(numbers[5:])\n",
    "    \n",
    "    keypoints = np.array(keypoints)\n",
    "    descriptors = np.array(descriptors)\n",
    "    \n",
    "    return keypoints, descriptors"
   ]
  },
  {
   "cell_type": "code",
   "execution_count": 28,
   "metadata": {},
   "outputs": [],
   "source": [
    "def get_ellipse_properties(keypoints):\n",
    "    properties = []\n",
    "    coord = []\n",
    "    s = []\n",
    "    o = []\n",
    "    As = []\n",
    "    for keypoint in keypoints:\n",
    "        u, v, a, b, c = keypoint[:5]\n",
    "        \n",
    "        A = np.array([[a, b], [b, c]])\n",
    "\n",
    "        eigenvalues, eigenvectors = np.linalg.eig(A)\n",
    "\n",
    "        sorted_indices = np.argsort(eigenvalues)\n",
    "        eigenvalues = eigenvalues[sorted_indices]\n",
    "        eigenvectors = eigenvectors[:, sorted_indices]\n",
    "\n",
    "        scale_si = np.sqrt(1/eigenvalues[0])\n",
    "\n",
    "        orientation_oi = np.arctan2(eigenvectors[1, 0], eigenvectors[0, 0]) * (180 / np.pi) \n",
    "        coord.append((u,v))\n",
    "        s.append(scale_si)\n",
    "        o.append(orientation_oi)\n",
    "        As.append(A)\n",
    "    return coord,s,o,As"
   ]
  },
  {
   "cell_type": "code",
   "execution_count": 57,
   "metadata": {},
   "outputs": [],
   "source": [
    "keypoints_root = \"data/keypoints\"\n",
    "images_root = \"data/images\"\n",
    "images_path = sorted(os.listdir(images_root))\n",
    "keypoints_path = sorted(os.listdir(keypoints_root))\n"
   ]
  },
  {
   "cell_type": "code",
   "execution_count": 58,
   "metadata": {},
   "outputs": [],
   "source": [
    "path = os.path.join(keypoints_root, keypoints_path[0])\n",
    "keypoints, descriptors = load_data_from_file(path)\n",
    "coord,s,o,A = get_ellipse_properties(keypoints)\n",
    "img_id = images_path[0].split('.')[0]\n",
    "df = pd.DataFrame({\n",
    "    'image_id': img_id,\n",
    "    'coord': coord,\n",
    "    'scale': s,\n",
    "    'orientation': o,\n",
    "    'matrix': A,\n",
    "    'descriptor': list(descriptors)\n",
    "})"
   ]
  }
 ],
 "metadata": {
  "kernelspec": {
   "display_name": "dip",
   "language": "python",
   "name": "python3"
  },
  "language_info": {
   "codemirror_mode": {
    "name": "ipython",
    "version": 3
   },
   "file_extension": ".py",
   "mimetype": "text/x-python",
   "name": "python",
   "nbconvert_exporter": "python",
   "pygments_lexer": "ipython3",
   "version": "3.6.15"
  },
  "orig_nbformat": 4
 },
 "nbformat": 4,
 "nbformat_minor": 2
}
