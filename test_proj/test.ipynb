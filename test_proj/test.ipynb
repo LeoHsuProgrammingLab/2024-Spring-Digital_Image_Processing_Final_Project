{
 "cells": [
  {
   "cell_type": "code",
   "execution_count": 2,
   "metadata": {},
   "outputs": [],
   "source": [
    "import numpy as np\n",
    "import pandas as pd\n",
    "import os\n",
    "import cv2"
   ]
  },
  {
   "cell_type": "code",
   "execution_count": 3,
   "metadata": {},
   "outputs": [],
   "source": [
    "dataset_images_dir = \"data/holiday_images\"\n",
    "dataset_pickle_path = \"data/holiday_df.pkl\"\n",
    "target_image_path = \"data/01.png\"\n",
    "target_pickle_path = \"data/target_df.pkl\"\n",
    "\n",
    "dataset_df = pd.read_pickle(dataset_pickle_path)\n",
    "target_df = pd.read_pickle(target_pickle_path)"
   ]
  },
  {
   "cell_type": "code",
   "execution_count": 4,
   "metadata": {},
   "outputs": [],
   "source": [
    "matcher = cv2.BFMatcher(cv2.NORM_L2, crossCheck=False)\n",
    "\n",
    "target_descriptors = np.array(target_df['descriptor'].tolist(), dtype = np.float32)\n",
    "dataset_descriptors = np.array(dataset_df['descriptor'].tolist(), dtype = np.float32)\n",
    "\n",
    "matches = matcher.match(target_descriptors, dataset_descriptors)\n",
    "\n",
    "target_df['match_idx'] = np.array([match.trainIdx for match in matches])"
   ]
  },
  {
   "cell_type": "code",
   "execution_count": 18,
   "metadata": {},
   "outputs": [
    {
     "data": {
      "text/plain": [
       "image_name                                                01.png\n",
       "coordinate                                    (560.767, 361.151)\n",
       "scale                                                 185.070659\n",
       "orientation                                           175.556743\n",
       "matrix         [[3.07923e-05, 2.05417e-05], [2.05417e-05, 0.0...\n",
       "descriptor     [28.0, 43.0, 34.0, 27.0, 16.0, 12.0, 7.0, 4.0,...\n",
       "match_idx                                                    814\n",
       "Name: 767, dtype: object"
      ]
     },
     "execution_count": 18,
     "metadata": {},
     "output_type": "execute_result"
    }
   ],
   "source": [
    "target_df.loc[767, 'matrix']"
   ]
  }
 ],
 "metadata": {
  "kernelspec": {
   "display_name": "dip-proj-env",
   "language": "python",
   "name": "python3"
  },
  "language_info": {
   "codemirror_mode": {
    "name": "ipython",
    "version": 3
   },
   "file_extension": ".py",
   "mimetype": "text/x-python",
   "name": "python",
   "nbconvert_exporter": "python",
   "pygments_lexer": "ipython3",
   "version": "3.8.19"
  }
 },
 "nbformat": 4,
 "nbformat_minor": 2
}
