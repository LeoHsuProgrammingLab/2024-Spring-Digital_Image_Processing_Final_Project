{
 "cells": [
  {
   "cell_type": "code",
   "execution_count": 1,
   "metadata": {},
   "outputs": [
    {
     "name": "stderr",
     "output_type": "stream",
     "text": [
      "/home/vann/anaconda3/envs/dip_final/lib/python3.8/site-packages/tqdm/auto.py:21: TqdmWarning: IProgress not found. Please update jupyter and ipywidgets. See https://ipywidgets.readthedocs.io/en/stable/user_install.html\n",
      "  from .autonotebook import tqdm as notebook_tqdm\n"
     ]
    }
   ],
   "source": [
    "import numpy as np\n",
    "import matplotlib.pyplot as plt\n",
    "from numpy.linalg import eig\n",
    "import matplotlib.patches as patches\n",
    "import cv2\n",
    "import pandas as pd\n",
    "import sys\n",
    "import poissonimageediting as poisson\n",
    "from tqdm.auto import tqdm\n",
    "import torch\n",
    "from pietorch.functional import blend, blend_wide\n",
    "from torchvision.transforms import functional as TF\n",
    "from PIL import Image\n",
    "np.set_printoptions(threshold=sys.maxsize)"
   ]
  },
  {
   "cell_type": "code",
   "execution_count": 2,
   "metadata": {},
   "outputs": [],
   "source": [
    "image = cv2.imread('data/01.png').astype(np.uint8)\n",
    "dataset_images_dir = \"data/holiday_images\"\n",
    "target_df = pd.read_pickle('data/target_df.pkl')\n",
    "dataset_df = pd.read_pickle('data/holiday_df.pkl')"
   ]
  },
  {
   "cell_type": "code",
   "execution_count": 3,
   "metadata": {},
   "outputs": [],
   "source": [
    "matcher = cv2.BFMatcher(cv2.NORM_L2, crossCheck=False)\n",
    "\n",
    "target_descriptors = np.array(target_df['descriptor'].tolist(), dtype = np.float32)\n",
    "dataset_descriptors = np.array(dataset_df['descriptor'].tolist(), dtype = np.float32)\n",
    "\n",
    "matches = matcher.match(target_descriptors, dataset_descriptors)\n",
    "\n",
    "target_df['match_idx'] = np.array([match.trainIdx for match in matches])"
   ]
  },
  {
   "cell_type": "code",
   "execution_count": 4,
   "metadata": {},
   "outputs": [
    {
     "name": "stdout",
     "output_type": "stream",
     "text": [
      "(607, 13)\n"
     ]
    }
   ],
   "source": [
    "target_df = target_df.sort_values(by = ['size'], ascending = [False])\n",
    "# filter size that is too small\n",
    "target_df_filtered = target_df[target_df['size'] > 1000]\n",
    "print(target_df_filtered.shape)"
   ]
  },
  {
   "cell_type": "code",
   "execution_count": 5,
   "metadata": {},
   "outputs": [
    {
     "data": {
      "text/plain": [
       "(152327, 12)"
      ]
     },
     "execution_count": 5,
     "metadata": {},
     "output_type": "execute_result"
    }
   ],
   "source": [
    "dataset_df.shape\n"
   ]
  },
  {
   "cell_type": "code",
   "execution_count": 6,
   "metadata": {},
   "outputs": [],
   "source": [
    "def warp_and_paste_ellipse(source_image_path, destination_image, source_params, destination_params):\n",
    "    # Load the source and destination images\n",
    "    source_image = cv2.imread(source_image_path).astype(np.uint8)\n",
    "\n",
    "    # Unpack ellipse parameters\n",
    "    u, v, major_axis_length, minor_axis_length, angle = source_params\n",
    "    u2, v2, major_axis_length2, minor_axis_length2, angle2 = destination_params\n",
    "\n",
    "    # Define the source ellipse parameters (from the source image)\n",
    "    center1 = (int(u), int(v))\n",
    "    axes1 = (int(major_axis_length), int(minor_axis_length))\n",
    "    angle1 = np.degrees(angle)\n",
    "\n",
    "    # Define the destination ellipse parameters (on the destination image)\n",
    "    center2 = (int(u2), int(v2))\n",
    "    axes2 = (int(major_axis_length2), int(minor_axis_length2))\n",
    "    angle2 = np.degrees(angle2)\n",
    "\n",
    "    # Create a mask for the source ellipse\n",
    "    mask = np.zeros_like(source_image)\n",
    "    cv2.ellipse(mask, center1, axes1, angle1, 0, 360, (255, 255, 255), -1)\n",
    "\n",
    "    # Extract the source ellipse region\n",
    "    source_ellipse_region = cv2.bitwise_and(source_image, mask)\n",
    "\n",
    "    # Define the bounding box around the source ellipse\n",
    "    src_rect = cv2.boxPoints(((center1[0], center1[1]), (axes1[0] * 2, axes1[1] * 2), angle1))\n",
    "    src_rect = np.int0(src_rect)\n",
    "\n",
    "    # Define the bounding box around the destination ellipse\n",
    "    dst_rect = cv2.boxPoints(((center2[0], center2[1]), (axes2[0] * 2, axes2[1] * 2), angle2))\n",
    "    dst_rect = np.int0(dst_rect)\n",
    "\n",
    "    # Compute the perspective transformation matrix\n",
    "    M = cv2.getPerspectiveTransform(np.float32(src_rect), np.float32(dst_rect))\n",
    "\n",
    "    # Warp the source ellipse region to the shape of the destination ellipse\n",
    "    warped_ellipse_region = cv2.warpPerspective(source_ellipse_region, M, (destination_image.shape[1], destination_image.shape[0]))\n",
    "\n",
    "    # Get the bounding box of the destination ellipse\n",
    "    x, y, w, h = cv2.boundingRect(dst_rect)\n",
    "\n",
    "    # Crop the warped source ellipse to its bounding box\n",
    "    warped_source_ellipse_bbox = warped_ellipse_region[y:y+h, x:x+w]\n",
    "    # color\n",
    "    # if (warped_source_ellipse_bbox is not None):\n",
    "        # warped_source_ellipse_bbox = cv2.cvtColor(warped_source_ellipse_bbox, cv2.COLOR_BGR2RGB)\n",
    "    \n",
    "    # get the top left corner points of the bounding box in the image\n",
    "    corner = (x, y)\n",
    "    \n",
    "    return warped_source_ellipse_bbox, corner"
   ]
  },
  {
   "cell_type": "code",
   "execution_count": 8,
   "metadata": {},
   "outputs": [
    {
     "name": "stderr",
     "output_type": "stream",
     "text": [
      "  0%|          | 0/607 [00:00<?, ?it/s]/tmp/ipykernel_463587/363538235.py:28: DeprecationWarning: `np.int0` is a deprecated alias for `np.intp`.  (Deprecated NumPy 1.24)\n",
      "  src_rect = np.int0(src_rect)\n",
      "/tmp/ipykernel_463587/363538235.py:32: DeprecationWarning: `np.int0` is a deprecated alias for `np.intp`.  (Deprecated NumPy 1.24)\n",
      "  dst_rect = np.int0(dst_rect)\n",
      "100%|██████████| 607/607 [01:07<00:00,  9.02it/s]\n"
     ]
    }
   ],
   "source": [
    "canvas = np.zeros_like(image)\n",
    "# use enumerate to get the index of the row\n",
    "\n",
    "# for index, row in tqdm(target_df_filtered.iterrows(), total=target_df_filtered.shape[0]):\n",
    "# use enumerate and tqdm\n",
    "for i, (index, row) in enumerate(tqdm(target_df_filtered.iterrows(), total=target_df_filtered.shape[0])):\n",
    "    target_u, target_v = row['coordinate']\n",
    "    target_A = row['matrix']\n",
    "    target_major_axis_length = row['semi_major_axis']\n",
    "    target_minor_axis_length = row['semi_minor_axis']\n",
    "    target_angle = row['angle']\n",
    "    \n",
    "    match_idx = row['match_idx']\n",
    "    match_image_name  = dataset_df.loc[match_idx, 'image_name']\n",
    "    match_u, match_v = dataset_df.loc[match_idx, 'coordinate']\n",
    "    match_A = np.array(dataset_df.loc[match_idx, 'matrix'])\n",
    "    match_major_axis_length = dataset_df.loc[match_idx, 'semi_major_axis']\n",
    "    match_minor_axis_length = dataset_df.loc[match_idx, 'semi_minor_axis']\n",
    "    match_angle = dataset_df.loc[match_idx, 'angle']\n",
    "    \n",
    "    match_image_path = f\"{dataset_images_dir}/{match_image_name}\"\n",
    "\n",
    "    \n",
    "    source_params = (match_u, match_v, match_major_axis_length, match_minor_axis_length, match_angle)\n",
    "    destination_params = (target_u, target_v, target_major_axis_length, target_minor_axis_length, target_angle)\n",
    "\n",
    "    ellipse, corner = warp_and_paste_ellipse(match_image_path, canvas, source_params, destination_params)\n",
    "    \n",
    "    if ellipse is not None:\n",
    "        # Get top-left corner coordinates\n",
    "        x, y = corner\n",
    "        \n",
    "        # Check if there is overlap\n",
    "        canvas_region = canvas[y:y+ellipse.shape[0], x:x+ellipse.shape[1]]\n",
    "        \n",
    "        if np.count_nonzero(canvas_region) == 0:\n",
    "            # No overlap, paste directly\n",
    "            canvas[y:y+ellipse.shape[0], x:x+ellipse.shape[1]] = ellipse\n",
    "        else:\n",
    "            target = TF.to_tensor(canvas)\n",
    "            source = TF.to_tensor(ellipse)\n",
    "            mask = (source != 0).any(dim=0).float()\n",
    "            corner_cood = torch.tensor([y, x])\n",
    "            \n",
    "            result = blend(target, source, mask, corner_cood, True, channels_dim=0)\n",
    "            canvas = TF.to_pil_image(result)\n",
    "            canvas = np.array(canvas)\n",
    "            \n",
    "        # canvas will be result numpy\n",
    "        # canvas[y:y+ellipse.shape[0], x:x+ellipse.shape[1]] = ellipse\n",
    "        # save the canvas every iteration\n",
    "        cv2.imwrite(f'output/output{i:3d}.png', canvas)"
   ]
  },
  {
   "cell_type": "code",
   "execution_count": 8,
   "metadata": {},
   "outputs": [
    {
     "data": {
      "text/plain": [
       "((640, 794, 3),\n",
       " torch.Size([3, 640, 794]),\n",
       " torch.Size([3, 258, 482]),\n",
       " torch.Size([258, 482]),\n",
       " tensor([291, 256]))"
      ]
     },
     "execution_count": 8,
     "metadata": {},
     "output_type": "execute_result"
    }
   ],
   "source": [
    "canvas.shape, target.shape, source.shape, mask.shape, corner_cood"
   ]
  },
  {
   "cell_type": "code",
   "execution_count": 27,
   "metadata": {},
   "outputs": [
    {
     "name": "stdout",
     "output_type": "stream",
     "text": [
      "tensor([[0., 0., 0.,  ..., 0., 0., 0.],\n",
      "        [0., 0., 0.,  ..., 0., 0., 0.],\n",
      "        [0., 0., 0.,  ..., 0., 0., 0.],\n",
      "        ...,\n",
      "        [0., 0., 0.,  ..., 0., 0., 0.],\n",
      "        [0., 0., 0.,  ..., 0., 0., 0.],\n",
      "        [0., 0., 0.,  ..., 0., 0., 0.]])\n"
     ]
    }
   ],
   "source": [
    "print(mask)"
   ]
  },
  {
   "cell_type": "code",
   "execution_count": 11,
   "metadata": {},
   "outputs": [
    {
     "data": {
      "text/plain": [
       "<matplotlib.image.AxesImage at 0x7f921d24da00>"
      ]
     },
     "execution_count": 11,
     "metadata": {},
     "output_type": "execute_result"
    },
    {
     "data": {
      "image/png": "[encoded data removed]",
      "text/plain": [
       "<Figure size 640x480 with 1 Axes>"
      ]
     },
     "metadata": {},
     "output_type": "display_data"
    }
   ],
   "source": [
    "\n",
    "plt.imshow(mask)"
   ]
  }
 ],
 "metadata": {
  "kernelspec": {
   "display_name": "dip-proj-env",
   "language": "python",
   "name": "python3"
  },
  "language_info": {
   "codemirror_mode": {
    "name": "ipython",
    "version": 3
   },
   "file_extension": ".py",
   "mimetype": "text/x-python",
   "name": "python",
   "nbconvert_exporter": "python",
   "pygments_lexer": "ipython3",
   "version": "3.8.19"
  }
 },
 "nbformat": 4,
 "nbformat_minor": 2
}
