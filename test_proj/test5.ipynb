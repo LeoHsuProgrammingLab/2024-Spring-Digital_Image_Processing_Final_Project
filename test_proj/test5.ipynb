{
 "cells": [
  {
   "cell_type": "code",
   "execution_count": 1,
   "metadata": {},
   "outputs": [
    {
     "name": "stderr",
     "output_type": "stream",
     "text": [
      "/home/leohsu-cs/.local/lib/python3.8/site-packages/tqdm/auto.py:21: TqdmWarning: IProgress not found. Please update jupyter and ipywidgets. See https://ipywidgets.readthedocs.io/en/stable/user_install.html\n",
      "  from .autonotebook import tqdm as notebook_tqdm\n"
     ]
    }
   ],
   "source": [
    "import numpy as np\n",
    "import matplotlib.pyplot as plt\n",
    "from numpy.linalg import eig\n",
    "import matplotlib.patches as patches\n",
    "import cv2\n",
    "import pandas as pd\n",
    "import sys\n",
    "import poissonimageediting as poisson\n",
    "from tqdm.auto import tqdm\n",
    "from seamless_cloning import *\n",
    "\n",
    "np.set_printoptions(threshold=sys.maxsize)"
   ]
  },
  {
   "cell_type": "code",
   "execution_count": 2,
   "metadata": {},
   "outputs": [],
   "source": [
    "image = cv2.imread('./data/target_image/215100.jpg').astype(np.uint8)\n",
    "dataset_images_dir = \"./data/holiday_images\"\n",
    "target_df = pd.read_pickle('data/target_df.pkl')\n",
    "dataset_df = pd.read_pickle('data/holiday_df.pkl')"
   ]
  },
  {
   "cell_type": "code",
   "execution_count": 3,
   "metadata": {},
   "outputs": [],
   "source": [
    "matcher = cv2.BFMatcher(cv2.NORM_L2, crossCheck=False)\n",
    "\n",
    "target_descriptors = np.array(target_df['descriptor'].tolist(), dtype = np.float32)\n",
    "dataset_descriptors = np.array(dataset_df['descriptor'].tolist(), dtype = np.float32)\n",
    "\n",
    "matches = matcher.match(target_descriptors, dataset_descriptors)\n",
    "\n",
    "target_df['match_idx'] = np.array([match.trainIdx for match in matches])"
   ]
  },
  {
   "cell_type": "code",
   "execution_count": 4,
   "metadata": {},
   "outputs": [
    {
     "name": "stdout",
     "output_type": "stream",
     "text": [
      "(528, 13)\n"
     ]
    }
   ],
   "source": [
    "target_df = target_df.sort_values(by = ['size'], ascending = [False])\n",
    "target_df = target_df[target_df['size'] > 1000]\n",
    "print(target_df.shape)"
   ]
  },
  {
   "cell_type": "code",
   "execution_count": 5,
   "metadata": {},
   "outputs": [
    {
     "data": {
      "text/plain": [
       "(235547, 12)"
      ]
     },
     "execution_count": 5,
     "metadata": {},
     "output_type": "execute_result"
    }
   ],
   "source": [
    "dataset_df.shape\n"
   ]
  },
  {
   "cell_type": "code",
   "execution_count": 6,
   "metadata": {},
   "outputs": [],
   "source": [
    "# target_df"
   ]
  },
  {
   "cell_type": "code",
   "execution_count": 7,
   "metadata": {},
   "outputs": [],
   "source": [
    "# u,v = target_df.iloc[0]['coordinate']\n",
    "# A = target_df.iloc[0]['matrix']\n",
    "# major_axis_length = target_df.iloc[0]['semi_major_axis']\n",
    "# minor_axis_length = target_df.iloc[0]['semi_minor_axis']\n",
    "# angle = target_df.iloc[0]['angle']\n",
    "\n",
    "# u2,v2 = target_df.iloc[2]['coordinate']\n",
    "# A2 = target_df.iloc[2]['matrix']\n",
    "# major_axis_length2 = target_df.iloc[2]['semi_major_axis']\n",
    "# minor_axis_length2 = target_df.iloc[2]['semi_minor_axis']\n",
    "# angle2 = target_df.iloc[2]['angle']"
   ]
  },
  {
   "cell_type": "code",
   "execution_count": 8,
   "metadata": {},
   "outputs": [],
   "source": [
    "def show_img(img):\n",
    "    print(img.shape)\n",
    "    plt.imshow(cv2.cvtColor(img, cv2.COLOR_BGR2RGB))\n",
    "    plt.axis('off')\n",
    "    plt.show()"
   ]
  },
  {
   "cell_type": "code",
   "execution_count": 9,
   "metadata": {},
   "outputs": [],
   "source": [
    "import uuid\n",
    "import os\n",
    "import subprocess\n",
    "\n",
    "def save_temp_image(image_array, prefix='temp'):\n",
    "    \"\"\"Save a NumPy array as a temporary image file.\"\"\"\n",
    "    temp_filename = f\"{prefix}_{uuid.uuid4().hex}.jpg\"\n",
    "    cv2.imwrite(temp_filename, image_array)\n",
    "    return temp_filename\n",
    "\n",
    "def read_temp_image(filename):\n",
    "    \"\"\"Read an image file into a NumPy array.\"\"\"\n",
    "    image_array = cv2.imread(filename)\n",
    "    return image_array\n",
    "\n",
    "def delete_temp_file(filename):\n",
    "    \"\"\"Delete a temporary file.\"\"\"\n",
    "    os.remove(filename)\n",
    "\n",
    "def blend_images_with_fpie(source_array, target_array, height0, width0, height1, width1, iterations, gradient_method):\n",
    "    # Save source and target images as temporary files\n",
    "    source_path = save_temp_image(source_array, prefix='source')\n",
    "    target_path = save_temp_image(target_array, prefix='target')\n",
    "    output_path = f\"result_{uuid.uuid4().hex}.jpg\"\n",
    "\n",
    "    back_end_choice = \"cuda\"\n",
    "\n",
    "    # Construct the fpie command\n",
    "    fpie_command = [\n",
    "        'fpie',\n",
    "        '-b', back_end_choice,\n",
    "        '-s', source_path,\n",
    "        '-t', target_path,\n",
    "        '-o', output_path,\n",
    "        '-h0', str(height0), \n",
    "        '-w0', str(width0),\n",
    "        '-h1', str(height1),\n",
    "        '-w1', str(width1),\n",
    "        '-n', str(iterations),\n",
    "        '-g', gradient_method\n",
    "    ]\n",
    "\n",
    "    # Run the fpie command\n",
    "    subprocess.run(fpie_command, check=True)\n",
    "\n",
    "    # Read the resulting image into a NumPy array\n",
    "    result_array = read_temp_image(output_path)\n",
    "\n",
    "    # Clean up temporary files\n",
    "    delete_temp_file(source_path)\n",
    "    delete_temp_file(target_path)\n",
    "    delete_temp_file(output_path)\n",
    "\n",
    "    return result_array"
   ]
  },
  {
   "cell_type": "code",
   "execution_count": 10,
   "metadata": {},
   "outputs": [],
   "source": [
    "default_dir = '/home/leohsu-cs/fast-poisson-image-editing/data/test1'\n",
    "solver = 'spsolve'\n",
    "scale = 1.0\n",
    "\n",
    "cloner = PoissonSeamlessCloner(default_dir, solver, scale)\n",
    "\n",
    "gradient_mixing_mode_list = [\"max\", \"alpha\"]\n",
    "gradient_mixing_mode = gradient_mixing_mode_list[0]\n",
    "\n",
    "gradient_mixing_alpha = 1.0"
   ]
  },
  {
   "cell_type": "code",
   "execution_count": 17,
   "metadata": {},
   "outputs": [],
   "source": [
    "def warp_and_paste_ellipse(source_image_path, destination_image, source_params, destination_params):\n",
    "    source_image = cv2.imread(source_image_path).astype(np.uint8)\n",
    "\n",
    "    u, v, major_axis_length, minor_axis_length, angle = source_params\n",
    "    u2, v2, major_axis_length2, minor_axis_length2, angle2 = destination_params\n",
    "\n",
    "    # Define the source ellipse parameters\n",
    "    center1 = (int(u), int(v))\n",
    "    axes1 = (int(major_axis_length), int(minor_axis_length))\n",
    "    angle1 = np.degrees(angle)\n",
    "    height1, width1 = center1\n",
    "    print(height1, width1)\n",
    "\n",
    "    # Define the destination ellipse parameters\n",
    "    center2 = (int(u2), int(v2))\n",
    "    axes2 = (int(major_axis_length2), int(minor_axis_length2))\n",
    "    angle2 = np.degrees(angle2)\n",
    "\n",
    "    # Create a mask for the source ellipse\n",
    "    mask = np.zeros_like(source_image)\n",
    "    cv2.ellipse(mask, center1, axes1, angle1, 0, 360, (255, 255, 255), -1)\n",
    "\n",
    "    # Extract the source ellipse region\n",
    "    source_ellipse_region = cv2.bitwise_and(source_image, mask)\n",
    "\n",
    "    # Define the bounding box around the source ellipse\n",
    "    src_rect = cv2.boxPoints(((center1[0], center1[1]), (axes1[0] * 2, axes1[1] * 2), angle1))\n",
    "    src_rect = np.int0(src_rect)\n",
    "\n",
    "    # Define the bounding box around the destination ellipse\n",
    "    dst_rect = cv2.boxPoints(((center2[0], center2[1]), (axes2[0] * 2, axes2[1] * 2), angle2))\n",
    "    dst_rect = np.int0(dst_rect)\n",
    "    height2, width2 = center2\n",
    "\n",
    "    # Compute the perspective transformation matrix\n",
    "    M = cv2.getPerspectiveTransform(np.float32(src_rect), np.float32(dst_rect))\n",
    "\n",
    "    # warp\n",
    "    warped_ellipse_region = cv2.warpPerspective(source_ellipse_region, M, (destination_image.shape[1], destination_image.shape[0]))\n",
    "\n",
    "    # Create a mask for the destination ellipse to combine the images correctly\n",
    "    mask2 = np.zeros_like(destination_image)\n",
    "    cv2.ellipse(mask2, center2, axes2, angle2, 0, 360, (255, 255, 255), -1)\n",
    "\n",
    "    warped_ellipse_only = cv2.bitwise_and(warped_ellipse_region, mask2)\n",
    "\n",
    "    # result = cv2.add(cv2.bitwise_and(destination_image, cv2.bitwise_not(mask2)), warped_ellipse_only)\n",
    "\n",
    "    # result_rgb = cv2.cvtColor(result, cv2.COLOR_BGR2RGB)\n",
    "\n",
    "    # Poisson blending\n",
    "    mask_ = cv2.cvtColor(mask2, cv2.COLOR_BGR2GRAY)\n",
    "    print(mask_.shape)\n",
    "    print(warped_ellipse_only.shape)\n",
    "    print(destination_image.shape)\n",
    "\n",
    "    result_rgb = cloner.poisson_blend_rgb_with_input(warped_ellipse_only, destination_image, mask_, gradient_mixing_mode, gradient_mixing_alpha)\n",
    "    print(result_rgb.shape)\n",
    "    return result_rgb"
   ]
  },
  {
   "cell_type": "code",
   "execution_count": 21,
   "metadata": {},
   "outputs": [
    {
     "name": "stderr",
     "output_type": "stream",
     "text": [
      "  0%|          | 0/528 [00:00<?, ?it/s]/tmp/ipykernel_1324392/2366947352.py:28: DeprecationWarning: `np.int0` is a deprecated alias for `np.intp`.  (Deprecated NumPy 1.24)\n",
      "  src_rect = np.int0(src_rect)\n",
      "/tmp/ipykernel_1324392/2366947352.py:32: DeprecationWarning: `np.int0` is a deprecated alias for `np.intp`.  (Deprecated NumPy 1.24)\n",
      "  dst_rect = np.int0(dst_rect)\n"
     ]
    },
    {
     "name": "stdout",
     "output_type": "stream",
     "text": [
      "1905 1756\n",
      "(1920, 2560)\n",
      "(1920, 2560, 3)\n",
      "(1920, 2560, 3)\n"
     ]
    },
    {
     "name": "stderr",
     "output_type": "stream",
     "text": [
      "Clipping input data to the valid range for imshow with RGB data ([0..1] for floats or [0..255] for integers).\n"
     ]
    },
    {
     "name": "stdout",
     "output_type": "stream",
     "text": [
      "(1920, 2560, 3)\n",
      "(1920, 2560, 3)\n"
     ]
    },
    {
     "data": {
      "image/png": "[encoded data removed]",
      "text/plain": [
       "<Figure size 640x480 with 1 Axes>"
      ]
     },
     "metadata": {},
     "output_type": "display_data"
    },
    {
     "name": "stderr",
     "output_type": "stream",
     "text": [
      "  0%|          | 1/528 [00:34<5:03:51, 34.60s/it]"
     ]
    },
    {
     "name": "stdout",
     "output_type": "stream",
     "text": [
      "451 1506\n"
     ]
    },
    {
     "name": "stderr",
     "output_type": "stream",
     "text": [
      "\n"
     ]
    },
    {
     "ename": "error",
     "evalue": "OpenCV(4.6.0) /croot/opencv-suite_1691620365762/work/modules/core/src/arithm.cpp:212: error: (-209:Sizes of input arguments do not match) The operation is neither 'array op array' (where arrays have the same size and type), nor 'array op scalar', nor 'scalar op array' in function 'binary_op'\n",
     "output_type": "error",
     "traceback": [
      "\u001b[0;31m---------------------------------------------------------------------------\u001b[0m",
      "\u001b[0;31merror\u001b[0m                                     Traceback (most recent call last)",
      "Cell \u001b[0;32mIn[21], line 23\u001b[0m\n\u001b[1;32m     20\u001b[0m source_params \u001b[39m=\u001b[39m (match_u, match_v, match_major_axis_length, match_minor_axis_length, match_angle)\n\u001b[1;32m     21\u001b[0m destination_params \u001b[39m=\u001b[39m (target_u, target_v, target_major_axis_length, target_minor_axis_length, target_angle)\n\u001b[0;32m---> 23\u001b[0m canvas \u001b[39m=\u001b[39m warp_and_paste_ellipse(match_image_path, canvas, source_params, destination_params)\n\u001b[1;32m     24\u001b[0m canvas \u001b[39m=\u001b[39m (canvas \u001b[39m*\u001b[39m \u001b[39m255\u001b[39m)\u001b[39m.\u001b[39mastype(np\u001b[39m.\u001b[39mfloat32)\n\u001b[1;32m     26\u001b[0m show_img(canvas)\n",
      "Cell \u001b[0;32mIn[17], line 45\u001b[0m, in \u001b[0;36mwarp_and_paste_ellipse\u001b[0;34m(source_image_path, destination_image, source_params, destination_params)\u001b[0m\n\u001b[1;32m     42\u001b[0m mask2 \u001b[39m=\u001b[39m np\u001b[39m.\u001b[39mzeros_like(destination_image)\n\u001b[1;32m     43\u001b[0m cv2\u001b[39m.\u001b[39mellipse(mask2, center2, axes2, angle2, \u001b[39m0\u001b[39m, \u001b[39m360\u001b[39m, (\u001b[39m255\u001b[39m, \u001b[39m255\u001b[39m, \u001b[39m255\u001b[39m), \u001b[39m-\u001b[39m\u001b[39m1\u001b[39m)\n\u001b[0;32m---> 45\u001b[0m warped_ellipse_only \u001b[39m=\u001b[39m cv2\u001b[39m.\u001b[39;49mbitwise_and(warped_ellipse_region, mask2)\n\u001b[1;32m     47\u001b[0m \u001b[39m# result = cv2.add(cv2.bitwise_and(destination_image, cv2.bitwise_not(mask2)), warped_ellipse_only)\u001b[39;00m\n\u001b[1;32m     48\u001b[0m \n\u001b[1;32m     49\u001b[0m \u001b[39m# result_rgb = cv2.cvtColor(result, cv2.COLOR_BGR2RGB)\u001b[39;00m\n\u001b[1;32m     50\u001b[0m \n\u001b[1;32m     51\u001b[0m \u001b[39m# Poisson blending\u001b[39;00m\n\u001b[1;32m     52\u001b[0m mask_ \u001b[39m=\u001b[39m cv2\u001b[39m.\u001b[39mcvtColor(mask2, cv2\u001b[39m.\u001b[39mCOLOR_BGR2GRAY)\n",
      "\u001b[0;31merror\u001b[0m: OpenCV(4.6.0) /croot/opencv-suite_1691620365762/work/modules/core/src/arithm.cpp:212: error: (-209:Sizes of input arguments do not match) The operation is neither 'array op array' (where arrays have the same size and type), nor 'array op scalar', nor 'scalar op array' in function 'binary_op'\n"
     ]
    }
   ],
   "source": [
    "canvas = np.zeros_like(image)\n",
    "for index, row in tqdm(target_df.iterrows(), total=target_df.shape[0]):\n",
    "    target_u, target_v = row['coordinate']\n",
    "    target_A = row['matrix']\n",
    "    target_major_axis_length = row['semi_major_axis']\n",
    "    target_minor_axis_length = row['semi_minor_axis']\n",
    "    target_angle = row['angle']\n",
    "    \n",
    "    match_idx = row['match_idx']\n",
    "    match_image_name  = dataset_df.loc[match_idx, 'image_name']\n",
    "    match_u, match_v = dataset_df.loc[match_idx, 'coordinate']\n",
    "    match_A = np.array(dataset_df.loc[match_idx, 'matrix'])\n",
    "    match_major_axis_length = dataset_df.loc[match_idx, 'semi_major_axis']\n",
    "    match_minor_axis_length = dataset_df.loc[match_idx, 'semi_minor_axis']\n",
    "    match_angle = dataset_df.loc[match_idx, 'angle']\n",
    "    \n",
    "    match_image_path = f\"{dataset_images_dir}/{match_image_name}\"\n",
    "\n",
    "    \n",
    "    source_params = (match_u, match_v, match_major_axis_length, match_minor_axis_length, match_angle)\n",
    "    destination_params = (target_u, target_v, target_major_axis_length, target_minor_axis_length, target_angle)\n",
    "\n",
    "    canvas = warp_and_paste_ellipse(match_image_path, canvas, source_params, destination_params)\n",
    "    canvas = (canvas * 255).astype(np.float32)\n",
    "    \n",
    "    show_img(canvas)"
   ]
  },
  {
   "cell_type": "code",
   "execution_count": null,
   "metadata": {},
   "outputs": [
    {
     "data": {
      "text/plain": [
       "<matplotlib.image.AxesImage at 0x7706b83bcfd0>"
      ]
     },
     "execution_count": 65,
     "metadata": {},
     "output_type": "execute_result"
    },
    {
     "data": {
      "image/png": "[encoded data removed]",
      "text/plain": [
       "<Figure size 640x480 with 1 Axes>"
      ]
     },
     "metadata": {},
     "output_type": "display_data"
    }
   ],
   "source": [
    "plt.imshow(canvas)"
   ]
  }
 ],
 "metadata": {
  "kernelspec": {
   "display_name": "dip-proj-env",
   "language": "python",
   "name": "python3"
  },
  "language_info": {
   "codemirror_mode": {
    "name": "ipython",
    "version": 3
   },
   "file_extension": ".py",
   "mimetype": "text/x-python",
   "name": "python",
   "nbconvert_exporter": "python",
   "pygments_lexer": "ipython3",
   "version": "3.8.19"
  }
 },
 "nbformat": 4,
 "nbformat_minor": 2
}
