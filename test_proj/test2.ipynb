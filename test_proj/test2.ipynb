{
 "cells": [
  {
   "cell_type": "code",
   "execution_count": 1,
   "metadata": {},
   "outputs": [
    {
     "name": "stderr",
     "output_type": "stream",
     "text": [
      "/home/leohsu-cs/.local/lib/python3.8/site-packages/tqdm/auto.py:21: TqdmWarning: IProgress not found. Please update jupyter and ipywidgets. See https://ipywidgets.readthedocs.io/en/stable/user_install.html\n",
      "  from .autonotebook import tqdm as notebook_tqdm\n"
     ]
    }
   ],
   "source": [
    "import numpy as np\n",
    "import matplotlib.pyplot as plt\n",
    "from numpy.linalg import eig\n",
    "import matplotlib.patches as patches\n",
    "import cv2\n",
    "import pandas as pd\n",
    "import sys\n",
    "import poissonimageediting as poisson\n",
    "from tqdm.auto import tqdm\n",
    "\n",
    "np.set_printoptions(threshold=sys.maxsize)"
   ]
  },
  {
   "cell_type": "code",
   "execution_count": 2,
   "metadata": {},
   "outputs": [],
   "source": [
    "def rotate(image, angle, center = None, scale = 1.0):\n",
    "    (h, w) = image.shape[:2]\n",
    "\n",
    "    if center is None:\n",
    "        center = (w / 2, h / 2)\n",
    "\n",
    "    # Perform the rotation\n",
    "    M = cv2.getRotationMatrix2D(center, angle, scale)\n",
    "    rotated = cv2.warpAffine(image, M, (w, h))\n",
    "\n",
    "    return rotated"
   ]
  },
  {
   "cell_type": "code",
   "execution_count": 3,
   "metadata": {},
   "outputs": [],
   "source": [
    "def retrive_ellipse(src, u, v, A, o):\n",
    "    image = src.copy()\n",
    "\n",
    "    # Extracting the dimensions of the image\n",
    "    height, width = image.shape[:2]\n",
    "\n",
    "    # Eigenvalue decomposition to find axes lengths and orientation\n",
    "    vals, vecs = eig(A)\n",
    "    major_axis_length = 1 / np.sqrt(vals[0])\n",
    "    minor_axis_length = 1 / np.sqrt(vals[1])\n",
    "    angle = np.arctan2(vecs[1, 0], vecs[0, 0])\n",
    "\n",
    "    # Create an x, y coordinate grid of shape (height, width)\n",
    "    y, x = np.ogrid[:height, :width]\n",
    "    x = x - u\n",
    "    y = y - v\n",
    "\n",
    "    # Ellipse equation derived from the quadratic form\n",
    "    ellipse_mask = ((x * np.cos(angle) + y * np.sin(angle))**2 / major_axis_length**2 +\n",
    "                    (y * np.cos(angle) - x * np.sin(angle))**2 / minor_axis_length**2) <= 1\n",
    "    \n",
    "    not_rotate_image = np.zeros_like(image)\n",
    "    not_rotate_image[ellipse_mask] = image[ellipse_mask]\n",
    "\n",
    "    image = rotate(image, o - 180, center = (u, v))\n",
    "\n",
    "    em_int = np.where(ellipse_mask == True, 255, 0).astype(np.uint8)\n",
    "    em_int = np.dstack([em_int, em_int, em_int])\n",
    "    em_int = rotate(em_int, o - 180, center = (u, v))\n",
    "    em_int = em_int[:, :, 0]\n",
    "    ellipse_mask = np.where(em_int == 255, True, False).astype(bool)\n",
    "\n",
    "    indices = np.where(ellipse_mask)\n",
    "    min_y, max_y = indices[0].min(), indices[0].max()\n",
    "    min_x, max_x = indices[1].min(), indices[1].max()\n",
    "\n",
    "    # Masking the image\n",
    "    selected_region = np.zeros_like(image)\n",
    "    selected_region[ellipse_mask] = image[ellipse_mask]\n",
    "\n",
    "    return selected_region[min_y:max_y + 1, min_x:max_x + 1], ellipse_mask[min_y:max_y + 1, min_x:max_x + 1], not_rotate_image\n"
   ]
  },
  {
   "cell_type": "code",
   "execution_count": 4,
   "metadata": {},
   "outputs": [],
   "source": [
    "image = cv2.imread('test_imgs/01.png').astype(np.uint8)\n",
    "dataset_images_dir = \"data/holiday_images\"\n",
    "target_df = pd.read_pickle('data/target_df.pkl')\n",
    "dataset_df = pd.read_pickle('data/holiday_df.pkl')"
   ]
  },
  {
   "cell_type": "code",
   "execution_count": 5,
   "metadata": {},
   "outputs": [],
   "source": [
    "matcher = cv2.BFMatcher(cv2.NORM_L2, crossCheck=False)\n",
    "\n",
    "target_descriptors = np.array(target_df['descriptor'].tolist(), dtype = np.float32)\n",
    "dataset_descriptors = np.array(dataset_df['descriptor'].tolist(), dtype = np.float32)\n",
    "\n",
    "matches = matcher.match(target_descriptors, dataset_descriptors)\n",
    "\n",
    "target_df['match_idx'] = np.array([match.trainIdx for match in matches])"
   ]
  },
  {
   "cell_type": "code",
   "execution_count": 6,
   "metadata": {},
   "outputs": [
    {
     "name": "stdout",
     "output_type": "stream",
     "text": [
      "(772, 13)\n"
     ]
    }
   ],
   "source": [
    "target_df = target_df.sort_values(by = ['size'], ascending = [False])\n",
    "print(target_df.shape)"
   ]
  },
  {
   "cell_type": "code",
   "execution_count": 7,
   "metadata": {},
   "outputs": [],
   "source": [
    "def add_alpha_channel(image):\n",
    "    # Check if the input image already has an alpha channel\n",
    "    if image.shape[2] == 4:\n",
    "        print(\"Image already has an alpha channel.\")\n",
    "        return image\n",
    "\n",
    "    # Get the dimensions of the input image\n",
    "    height, width = image.shape[:2]\n",
    "\n",
    "    # Create an alpha channel with full opacity (255)\n",
    "    alpha_channel = np.ones((height, width), dtype=np.uint8) * 255\n",
    "\n",
    "    # Add the alpha channel to the input image\n",
    "    rgba_image = cv2.merge((image, alpha_channel))\n",
    "\n",
    "    return rgba_image"
   ]
  },
  {
   "cell_type": "code",
   "execution_count": 8,
   "metadata": {},
   "outputs": [],
   "source": [
    "def rotate_image(image, angle):\n",
    "    # Get the image dimensions\n",
    "    (h, w) = image.shape[:2]\n",
    "    \n",
    "    # Calculate the center of the image\n",
    "    center = (w // 2, h // 2)\n",
    "    \n",
    "    # Compute the rotation matrix\n",
    "    M = cv2.getRotationMatrix2D(center, angle, 1.0)\n",
    "    \n",
    "    # Calculate the cosine and sine of the rotation angle\n",
    "    cos = np.abs(M[0, 0])\n",
    "    sin = np.abs(M[0, 1])\n",
    "    \n",
    "    # Compute the new bounding dimensions of the image\n",
    "    new_w = int((h * sin) + (w * cos))\n",
    "    new_h = int((h * cos) + (w * sin))\n",
    "    \n",
    "    # Adjust the rotation matrix to account for the translation\n",
    "    M[0, 2] += (new_w / 2) - center[0]\n",
    "    M[1, 2] += (new_h / 2) - center[1]\n",
    "    \n",
    "    # Perform the actual rotation and return the image\n",
    "    rotated = cv2.warpAffine(image, M, (new_w, new_h), borderMode=cv2.BORDER_CONSTANT, borderValue=(0,0,0,0))\n",
    "    \n",
    "    return rotated"
   ]
  },
  {
   "cell_type": "code",
   "execution_count": 9,
   "metadata": {},
   "outputs": [],
   "source": [
    "def paste_image_with_alpha(bg_img, overlay_img, center_x, center_y):\n",
    "    \"\"\"\n",
    "    Overlays `overlay_img` onto `bg_img` centered at (center_x, center_y) using the alpha channel.\n",
    "    \n",
    "    Args:\n",
    "    - bg_img (numpy.ndarray): The background image (larger image), shape (H, W, 4).\n",
    "    - overlay_img (numpy.ndarray): The image to overlay (smaller image), shape (h, w, 4).\n",
    "    - center_x (int): The x-coordinate of the center point.\n",
    "    - center_y (int): The y-coordinate of the center point.\n",
    "    \n",
    "    Returns:\n",
    "    - numpy.ndarray: The resulting image with the overlay.\n",
    "    \"\"\"\n",
    "    \n",
    "    # Get dimensions\n",
    "    H, W, _ = bg_img.shape\n",
    "    h, w, _ = overlay_img.shape\n",
    "    \n",
    "    # Calculate the top-left corner of the overlay_img\n",
    "    start_x = max(center_x - w // 2, 0)\n",
    "    start_y = max(center_y - h // 2, 0)\n",
    "    \n",
    "    # Calculate the range of overlay_img to use\n",
    "    overlay_start_x = max(0, w // 2 - center_x)\n",
    "    overlay_start_y = max(0, h // 2 - center_y)\n",
    "    \n",
    "    overlay_end_x = min(w, W - center_x + w // 2)\n",
    "    overlay_end_y = min(h, H - center_y + h // 2)\n",
    "    \n",
    "    bg_end_x = start_x + overlay_end_x - overlay_start_x\n",
    "    bg_end_y = start_y + overlay_end_y - overlay_start_y\n",
    "    \n",
    "    # Apply the overlay using the alpha channel\n",
    "    alpha_overlay = overlay_img[overlay_start_y:overlay_end_y, overlay_start_x:overlay_end_x, 3] / 255.0\n",
    "    \n",
    "    for c in range(0, 3):\n",
    "        if c == 3:  # Alpha channel\n",
    "            bg_img[start_y:bg_end_y, start_x:bg_end_x, c] = np.where(alpha_overlay > 0, overlay_img[overlay_start_y:overlay_end_y, overlay_start_x:overlay_end_x, c], bg_img[start_y:bg_end_y, start_x:bg_end_x, c])\n",
    "        else:  # RGB channels\n",
    "            bg_img[start_y:bg_end_y, start_x:bg_end_x, c] = np.where(alpha_overlay > 0, overlay_img[overlay_start_y:overlay_end_y, overlay_start_x:overlay_end_x, c], bg_img[start_y:bg_end_y, start_x:bg_end_x, c])\n",
    "    \n",
    "    return bg_img"
   ]
  },
  {
   "cell_type": "code",
   "execution_count": 10,
   "metadata": {},
   "outputs": [],
   "source": [
    "def show_img(img):\n",
    "    print(img.shape)\n",
    "    plt.imshow(cv2.cvtColor(img, cv2.COLOR_BGR2RGB))\n",
    "    plt.axis('off')\n",
    "    plt.show()"
   ]
  },
  {
   "cell_type": "code",
   "execution_count": 11,
   "metadata": {},
   "outputs": [],
   "source": [
    "def show_results(src, mask, canvas, this_o):\n",
    "    fig, axs = plt.subplots(1, 3, figsize=(10, 5))\n",
    "    \n",
    "    axs[0].imshow(src)\n",
    "    axs[0].set_title('src')\n",
    "    axs[0].axis('off')\n",
    "\n",
    "    axs[1].imshow(np.dstack([mask, mask, mask]))\n",
    "    axs[1].set_title('mask')\n",
    "    axs[1].axis('off')\n",
    "    \n",
    "    axs[2].imshow(canvas)\n",
    "    axs[2].set_title('canvas')\n",
    "    axs[2].axis('off')\n",
    "\n",
    "    plt.show()\n",
    "    print(this_o)"
   ]
  },
  {
   "cell_type": "code",
   "execution_count": 15,
   "metadata": {},
   "outputs": [
    {
     "name": "stderr",
     "output_type": "stream",
     "text": [
      "  0%|          | 0/772 [00:00<?, ?it/s]"
     ]
    },
    {
     "name": "stdout",
     "output_type": "stream",
     "text": [
      "index & row 771 image_name                                                    01.png\n",
      "coordinate                                        (575.417, 419.393)\n",
      "scale                                                      192.07462\n",
      "orientation                                              -170.069473\n",
      "matrix             [[2.79806e-05, -4.99744e-06], [-4.99744e-06, 5...\n",
      "eigenvalues         [2.7105663086150243e-05, 5.6524836913849755e-05]\n",
      "eigenvectors       [[-0.9850175819893834, 0.17245394507458628], [...\n",
      "semi_major_axis                                            192.07462\n",
      "semi_minor_axis                                           133.008789\n",
      "size                                                    80260.192263\n",
      "angle                                                      -2.968272\n",
      "descriptor         [15.0, 55.0, 55.0, 9.0, 17.0, 12.0, 19.0, 24.0...\n",
      "match_idx                                                        190\n",
      "Name: 771, dtype: object \n",
      "\n",
      "(640, 794, 3)\n"
     ]
    },
    {
     "data": {
      "image/png": "[encoded data removed]",
      "text/plain": [
       "<Figure size 640x480 with 1 Axes>"
      ]
     },
     "metadata": {},
     "output_type": "display_data"
    },
    {
     "name": "stdout",
     "output_type": "stream",
     "text": [
      "(640, 794, 3)\n"
     ]
    },
    {
     "data": {
      "image/png": "[encoded data removed]",
      "text/plain": [
       "<Figure size 640x480 with 1 Axes>"
      ]
     },
     "metadata": {},
     "output_type": "display_data"
    },
    {
     "name": "stdout",
     "output_type": "stream",
     "text": [
      "[0. 1.]\n",
      "omega shape:  (74560, 2)\n",
      "step1: filling coefficient matrix: A\n",
      "\n",
      "\n",
      "step2: filling gradient matrix: b\n",
      "\n",
      "\n",
      "step3: solve Au = b\n"
     ]
    },
    {
     "name": "stderr",
     "output_type": "stream",
     "text": [
      "  0%|          | 0/772 [00:06<?, ?it/s]\n"
     ]
    },
    {
     "ename": "KeyboardInterrupt",
     "evalue": "",
     "output_type": "error",
     "traceback": [
      "\u001b[0;31m---------------------------------------------------------------------------\u001b[0m",
      "\u001b[0;31mKeyboardInterrupt\u001b[0m                         Traceback (most recent call last)",
      "Cell \u001b[0;32mIn[15], line 67\u001b[0m\n\u001b[1;32m     65\u001b[0m show_img(canvas)\n\u001b[1;32m     66\u001b[0m \u001b[39mprint\u001b[39m(np\u001b[39m.\u001b[39munique(mask))\n\u001b[0;32m---> 67\u001b[0m canvas, overlap \u001b[39m=\u001b[39m poisson\u001b[39m.\u001b[39;49mpoisson_blend(src, mask, canvas, \u001b[39m'\u001b[39;49m\u001b[39mmix\u001b[39;49m\u001b[39m'\u001b[39;49m, \u001b[39m'\u001b[39;49m\u001b[39mtemp\u001b[39;49m\u001b[39m'\u001b[39;49m)\n\u001b[1;32m     69\u001b[0m \u001b[39m# normalize for next iteration\u001b[39;00m\n\u001b[1;32m     70\u001b[0m canvas \u001b[39m=\u001b[39m (canvas \u001b[39m/\u001b[39m \u001b[39m255.0\u001b[39m)\u001b[39m.\u001b[39mastype(np\u001b[39m.\u001b[39mfloat32)\n",
      "File \u001b[0;32m~/2024-Spring-Digital_Image_Processing_Final_Project/test_proj/poissonimageediting.py:688\u001b[0m, in \u001b[0;36mpoisson_blend\u001b[0;34m(src, mask, tar, method, output_dir)\u001b[0m\n\u001b[1;32m    686\u001b[0m \u001b[39m### solve\u001b[39;00m\n\u001b[1;32m    687\u001b[0m \u001b[39mprint\u001b[39m(\u001b[39m\"\u001b[39m\u001b[39mstep3: solve Au = b\u001b[39m\u001b[39m\"\u001b[39m)\n\u001b[0;32m--> 688\u001b[0m x_b, info_b \u001b[39m=\u001b[39m sp\u001b[39m.\u001b[39;49mlinalg\u001b[39m.\u001b[39;49mcg(A, u_b)\n\u001b[1;32m    689\u001b[0m x_g, info_g \u001b[39m=\u001b[39m sp\u001b[39m.\u001b[39mlinalg\u001b[39m.\u001b[39mcg(A, u_g)\n\u001b[1;32m    690\u001b[0m x_r, info_r \u001b[39m=\u001b[39m sp\u001b[39m.\u001b[39mlinalg\u001b[39m.\u001b[39mcg(A, u_r)\n",
      "File \u001b[0;32m<decorator-gen-3>:2\u001b[0m, in \u001b[0;36mcg\u001b[0;34m(A, b, x0, tol, maxiter, M, callback, atol)\u001b[0m\n",
      "File \u001b[0;32m~/anaconda3/envs/dip_proj/lib/python3.8/site-packages/scipy/_lib/_threadsafety.py:44\u001b[0m, in \u001b[0;36mReentrancyLock.decorate.<locals>.caller\u001b[0;34m(func, *a, **kw)\u001b[0m\n\u001b[1;32m     42\u001b[0m \u001b[39mdef\u001b[39;00m \u001b[39mcaller\u001b[39m(func, \u001b[39m*\u001b[39ma, \u001b[39m*\u001b[39m\u001b[39m*\u001b[39mkw):\n\u001b[1;32m     43\u001b[0m     \u001b[39mwith\u001b[39;00m \u001b[39mself\u001b[39m:\n\u001b[0;32m---> 44\u001b[0m         \u001b[39mreturn\u001b[39;00m func(\u001b[39m*\u001b[39;49ma, \u001b[39m*\u001b[39;49m\u001b[39m*\u001b[39;49mkw)\n",
      "File \u001b[0;32m~/anaconda3/envs/dip_proj/lib/python3.8/site-packages/scipy/sparse/linalg/_isolve/iterative.py:366\u001b[0m, in \u001b[0;36mcg\u001b[0;34m(A, b, x0, tol, maxiter, M, callback, atol)\u001b[0m\n\u001b[1;32m    364\u001b[0m \u001b[39melif\u001b[39;00m (ijob \u001b[39m==\u001b[39m \u001b[39m1\u001b[39m):\n\u001b[1;32m    365\u001b[0m     work[slice2] \u001b[39m*\u001b[39m\u001b[39m=\u001b[39m sclr2\n\u001b[0;32m--> 366\u001b[0m     work[slice2] \u001b[39m+\u001b[39m\u001b[39m=\u001b[39m sclr1\u001b[39m*\u001b[39mmatvec(work[slice1])\n\u001b[1;32m    367\u001b[0m \u001b[39melif\u001b[39;00m (ijob \u001b[39m==\u001b[39m \u001b[39m2\u001b[39m):\n\u001b[1;32m    368\u001b[0m     work[slice1] \u001b[39m=\u001b[39m psolve(work[slice2])\n",
      "File \u001b[0;32m~/anaconda3/envs/dip_proj/lib/python3.8/site-packages/scipy/sparse/linalg/_interface.py:232\u001b[0m, in \u001b[0;36mLinearOperator.matvec\u001b[0;34m(self, x)\u001b[0m\n\u001b[1;32m    229\u001b[0m \u001b[39mif\u001b[39;00m x\u001b[39m.\u001b[39mshape \u001b[39m!=\u001b[39m (N,) \u001b[39mand\u001b[39;00m x\u001b[39m.\u001b[39mshape \u001b[39m!=\u001b[39m (N,\u001b[39m1\u001b[39m):\n\u001b[1;32m    230\u001b[0m     \u001b[39mraise\u001b[39;00m \u001b[39mValueError\u001b[39;00m(\u001b[39m'\u001b[39m\u001b[39mdimension mismatch\u001b[39m\u001b[39m'\u001b[39m)\n\u001b[0;32m--> 232\u001b[0m y \u001b[39m=\u001b[39m \u001b[39mself\u001b[39;49m\u001b[39m.\u001b[39;49m_matvec(x)\n\u001b[1;32m    234\u001b[0m \u001b[39mif\u001b[39;00m \u001b[39misinstance\u001b[39m(x, np\u001b[39m.\u001b[39mmatrix):\n\u001b[1;32m    235\u001b[0m     y \u001b[39m=\u001b[39m asmatrix(y)\n",
      "File \u001b[0;32m~/anaconda3/envs/dip_proj/lib/python3.8/site-packages/scipy/sparse/linalg/_interface.py:199\u001b[0m, in \u001b[0;36mLinearOperator._matvec\u001b[0;34m(self, x)\u001b[0m\n\u001b[1;32m    189\u001b[0m \u001b[39mdef\u001b[39;00m \u001b[39m_matvec\u001b[39m(\u001b[39mself\u001b[39m, x):\n\u001b[1;32m    190\u001b[0m \u001b[39m    \u001b[39m\u001b[39m\"\"\"Default matrix-vector multiplication handler.\u001b[39;00m\n\u001b[1;32m    191\u001b[0m \n\u001b[1;32m    192\u001b[0m \u001b[39m    If self is a linear operator of shape (M, N), then this method will\u001b[39;00m\n\u001b[0;32m   (...)\u001b[0m\n\u001b[1;32m    197\u001b[0m \u001b[39m    will define matrix-vector multiplication as well.\u001b[39;00m\n\u001b[1;32m    198\u001b[0m \u001b[39m    \"\"\"\u001b[39;00m\n\u001b[0;32m--> 199\u001b[0m     \u001b[39mreturn\u001b[39;00m \u001b[39mself\u001b[39;49m\u001b[39m.\u001b[39;49mmatmat(x\u001b[39m.\u001b[39;49mreshape(\u001b[39m-\u001b[39;49m\u001b[39m1\u001b[39;49m, \u001b[39m1\u001b[39;49m))\n",
      "File \u001b[0;32m~/anaconda3/envs/dip_proj/lib/python3.8/site-packages/scipy/sparse/linalg/_interface.py:337\u001b[0m, in \u001b[0;36mLinearOperator.matmat\u001b[0;34m(self, X)\u001b[0m\n\u001b[1;32m    333\u001b[0m \u001b[39mif\u001b[39;00m X\u001b[39m.\u001b[39mshape[\u001b[39m0\u001b[39m] \u001b[39m!=\u001b[39m \u001b[39mself\u001b[39m\u001b[39m.\u001b[39mshape[\u001b[39m1\u001b[39m]:\n\u001b[1;32m    334\u001b[0m     \u001b[39mraise\u001b[39;00m \u001b[39mValueError\u001b[39;00m(\u001b[39m'\u001b[39m\u001b[39mdimension mismatch: \u001b[39m\u001b[39m%r\u001b[39;00m\u001b[39m, \u001b[39m\u001b[39m%r\u001b[39;00m\u001b[39m'\u001b[39m\n\u001b[1;32m    335\u001b[0m                      \u001b[39m%\u001b[39m (\u001b[39mself\u001b[39m\u001b[39m.\u001b[39mshape, X\u001b[39m.\u001b[39mshape))\n\u001b[0;32m--> 337\u001b[0m Y \u001b[39m=\u001b[39m \u001b[39mself\u001b[39;49m\u001b[39m.\u001b[39;49m_matmat(X)\n\u001b[1;32m    339\u001b[0m \u001b[39mif\u001b[39;00m \u001b[39misinstance\u001b[39m(Y, np\u001b[39m.\u001b[39mmatrix):\n\u001b[1;32m    340\u001b[0m     Y \u001b[39m=\u001b[39m asmatrix(Y)\n",
      "File \u001b[0;32m~/anaconda3/envs/dip_proj/lib/python3.8/site-packages/scipy/sparse/linalg/_interface.py:733\u001b[0m, in \u001b[0;36mMatrixLinearOperator._matmat\u001b[0;34m(self, X)\u001b[0m\n\u001b[1;32m    732\u001b[0m \u001b[39mdef\u001b[39;00m \u001b[39m_matmat\u001b[39m(\u001b[39mself\u001b[39m, X):\n\u001b[0;32m--> 733\u001b[0m     \u001b[39mreturn\u001b[39;00m \u001b[39mself\u001b[39;49m\u001b[39m.\u001b[39;49mA\u001b[39m.\u001b[39;49mdot(X)\n",
      "File \u001b[0;32m~/anaconda3/envs/dip_proj/lib/python3.8/site-packages/scipy/sparse/_base.py:416\u001b[0m, in \u001b[0;36mspmatrix.dot\u001b[0;34m(self, other)\u001b[0m\n\u001b[1;32m    414\u001b[0m     \u001b[39mreturn\u001b[39;00m \u001b[39mself\u001b[39m \u001b[39m*\u001b[39m other\n\u001b[1;32m    415\u001b[0m \u001b[39melse\u001b[39;00m:\n\u001b[0;32m--> 416\u001b[0m     \u001b[39mreturn\u001b[39;00m \u001b[39mself\u001b[39;49m \u001b[39m@\u001b[39;49m other\n",
      "File \u001b[0;32m~/anaconda3/envs/dip_proj/lib/python3.8/site-packages/scipy/sparse/_base.py:630\u001b[0m, in \u001b[0;36mspmatrix.__matmul__\u001b[0;34m(self, other)\u001b[0m\n\u001b[1;32m    627\u001b[0m \u001b[39mif\u001b[39;00m isscalarlike(other):\n\u001b[1;32m    628\u001b[0m     \u001b[39mraise\u001b[39;00m \u001b[39mValueError\u001b[39;00m(\u001b[39m\"\u001b[39m\u001b[39mScalar operands are not allowed, \u001b[39m\u001b[39m\"\u001b[39m\n\u001b[1;32m    629\u001b[0m                      \u001b[39m\"\u001b[39m\u001b[39muse \u001b[39m\u001b[39m'\u001b[39m\u001b[39m*\u001b[39m\u001b[39m'\u001b[39m\u001b[39m instead\u001b[39m\u001b[39m\"\u001b[39m)\n\u001b[0;32m--> 630\u001b[0m \u001b[39mreturn\u001b[39;00m \u001b[39mself\u001b[39;49m\u001b[39m.\u001b[39;49m_mul_dispatch(other)\n",
      "File \u001b[0;32m~/anaconda3/envs/dip_proj/lib/python3.8/site-packages/scipy/sparse/_base.py:530\u001b[0m, in \u001b[0;36mspmatrix._mul_dispatch\u001b[0;34m(self, other)\u001b[0m\n\u001b[1;32m    528\u001b[0m     \u001b[39mreturn\u001b[39;00m \u001b[39mself\u001b[39m\u001b[39m.\u001b[39m_mul_vector(other)\n\u001b[1;32m    529\u001b[0m \u001b[39melif\u001b[39;00m other\u001b[39m.\u001b[39mshape \u001b[39m==\u001b[39m (N, \u001b[39m1\u001b[39m):\n\u001b[0;32m--> 530\u001b[0m     \u001b[39mreturn\u001b[39;00m \u001b[39mself\u001b[39;49m\u001b[39m.\u001b[39;49m_mul_vector(other\u001b[39m.\u001b[39;49mravel())\u001b[39m.\u001b[39mreshape(M, \u001b[39m1\u001b[39m)\n\u001b[1;32m    531\u001b[0m \u001b[39melif\u001b[39;00m other\u001b[39m.\u001b[39mndim \u001b[39m==\u001b[39m \u001b[39m2\u001b[39m \u001b[39mand\u001b[39;00m other\u001b[39m.\u001b[39mshape[\u001b[39m0\u001b[39m] \u001b[39m==\u001b[39m N:\n\u001b[1;32m    532\u001b[0m     \u001b[39mreturn\u001b[39;00m \u001b[39mself\u001b[39m\u001b[39m.\u001b[39m_mul_multivector(other)\n",
      "File \u001b[0;32m~/anaconda3/envs/dip_proj/lib/python3.8/site-packages/scipy/sparse/_base.py:597\u001b[0m, in \u001b[0;36mspmatrix._mul_vector\u001b[0;34m(self, other)\u001b[0m\n\u001b[1;32m    596\u001b[0m \u001b[39mdef\u001b[39;00m \u001b[39m_mul_vector\u001b[39m(\u001b[39mself\u001b[39m, other):\n\u001b[0;32m--> 597\u001b[0m     \u001b[39mreturn\u001b[39;00m \u001b[39mself\u001b[39;49m\u001b[39m.\u001b[39;49mtocsr()\u001b[39m.\u001b[39m_mul_vector(other)\n",
      "File \u001b[0;32m~/anaconda3/envs/dip_proj/lib/python3.8/site-packages/scipy/sparse/_lil.py:474\u001b[0m, in \u001b[0;36mlil_matrix.tocsr\u001b[0;34m(self, copy)\u001b[0m\n\u001b[1;32m    472\u001b[0m data \u001b[39m=\u001b[39m np\u001b[39m.\u001b[39mempty(nnz, dtype\u001b[39m=\u001b[39m\u001b[39mself\u001b[39m\u001b[39m.\u001b[39mdtype)\n\u001b[1;32m    473\u001b[0m _csparsetools\u001b[39m.\u001b[39mlil_flatten_to_array(\u001b[39mself\u001b[39m\u001b[39m.\u001b[39mrows, indices)\n\u001b[0;32m--> 474\u001b[0m _csparsetools\u001b[39m.\u001b[39;49mlil_flatten_to_array(\u001b[39mself\u001b[39;49m\u001b[39m.\u001b[39;49mdata, data)\n\u001b[1;32m    476\u001b[0m \u001b[39m# init csr matrix\u001b[39;00m\n\u001b[1;32m    477\u001b[0m \u001b[39mreturn\u001b[39;00m \u001b[39mself\u001b[39m\u001b[39m.\u001b[39m_csr_container((data, indices, indptr), shape\u001b[39m=\u001b[39m\u001b[39mself\u001b[39m\u001b[39m.\u001b[39mshape)\n",
      "\u001b[0;31mKeyboardInterrupt\u001b[0m: "
     ]
    }
   ],
   "source": [
    "# canvas = np.full((image.shape[0], image.shape[1], image.shape[2] + 1), 255, dtype = np.float32)\n",
    "canvas = np.full((image.shape[0], image.shape[1], image.shape[2]), 1.0, dtype = np.float32)\n",
    "colored = np.full((image.shape[0], image.shape[1]), False)\n",
    "\n",
    "\n",
    "for index, row in tqdm(target_df.iterrows(), total=target_df.shape[0]):\n",
    "    print(\"index & row\", index, row, '\\n')\n",
    "\n",
    "    match_idx = row['match_idx']\n",
    "    match_image_name  = dataset_df.loc[match_idx, 'image_name']\n",
    "    match_image = add_alpha_channel(cv2.imread(f'{dataset_images_dir}/{match_image_name}').astype(np.uint8))\n",
    "    \n",
    "    # retrieve the ellipse\n",
    "    match_u, match_v = dataset_df.loc[match_idx, 'coordinate']\n",
    "    match_A = np.array(dataset_df.loc[match_idx, 'matrix'])\n",
    "    match_o = dataset_df.loc[match_idx, 'orientation']\n",
    "    cropped_region, cropped_mask, _ = retrive_ellipse(match_image, match_u, match_v, match_A, match_o)\n",
    "    cropped_height, cropped_width = cropped_region.shape[0], cropped_region.shape[1]\n",
    "    \n",
    "    # calculate the features of the ellipse\n",
    "    this_u, this_v = row['coordinate']\n",
    "    this_A = np.array(row['matrix'])\n",
    "    this_o = row['orientation']\n",
    "    this_region, _, not_rotate_this_region = retrive_ellipse(image, this_u, this_v, this_A, this_o)\n",
    "    this_height, this_width = this_region.shape[0], this_region.shape[1]\n",
    "    resized_cropped = cv2.resize(cropped_region, (this_width, this_height), interpolation=cv2.INTER_AREA)\n",
    "    resized_cropped = np.pad(resized_cropped, ((128, 128), (128, 128), (0, 0)), 'constant', constant_values=0)\n",
    "    # here you forgot to resize the mask\n",
    "    resized_mask = cv2.resize(cropped_mask.astype(np.uint8), (this_width, this_height), interpolation=cv2.INTER_AREA)\n",
    "    resized_mask = np.pad(resized_mask, ((128, 128), (128, 128)), 'constant', constant_values=False)\n",
    "    indices = np.where(resized_mask)\n",
    "    min_y, max_y = indices[0].min(), indices[0].max()\n",
    "    min_x, max_x = indices[1].min(), indices[1].max()\n",
    "\n",
    "    resized_cropped = resized_cropped[min_y:max_y + 1, min_x:max_x + 1]\n",
    "    resized_mask = resized_mask[min_y:max_y + 1, min_x:max_x + 1]\n",
    "\n",
    "    # Convert resized_cropped to have an alpha channel\n",
    "    # resized_cropped_with_alpha = np.dstack((resized_cropped, np.zeros(resized_cropped.shape[:2], dtype=np.uint8)))\n",
    "\n",
    "    # # Set alpha values based on resized_mask\n",
    "    # resized_cropped_with_alpha[:, :, 3] = np.where(resized_mask, 255, 0)\n",
    "\n",
    "    # resized_cropped_with_alpha = rotate_image(resized_cropped_with_alpha, 180 - this_o)\n",
    "\n",
    "    null_canvas_4_src = np.zeros_like(canvas).astype(np.uint8)\n",
    "    # the image is collage \n",
    "    src = (paste_image_with_alpha(null_canvas_4_src, resized_cropped, int(this_u), int(this_v)) / 255.0).astype(np.float32)\n",
    "    \n",
    "    # solve the equation\n",
    "    this_vals, this_vecs = eig(this_A)\n",
    "    this_major_axis_length = 1 / np.sqrt(this_vals[0])\n",
    "    this_minor_axis_length = 1 / np.sqrt(this_vals[1])\n",
    "    this_angle = np.arctan2(this_vecs[1, 0], this_vecs[0, 0])\n",
    "    this_y, this_x = np.ogrid[:canvas.shape[0], :canvas.shape[1]]\n",
    "    this_x = this_x - this_u\n",
    "    this_y = this_y - this_v\n",
    "    this_ellipse_mask = ((this_x * np.cos(this_angle) + this_y * np.sin(this_angle))**2 / this_major_axis_length**2 +\n",
    "                         (this_y * np.cos(this_angle) - this_x * np.sin(this_angle))**2 / this_minor_axis_length**2) <= 1\n",
    "    mask = np.all(src != 0, axis=-1)\n",
    "    mask = np.where(mask == True, 255, 0)\n",
    "    mask = mask / 255.0\n",
    "\n",
    "    show_img(src)\n",
    "    show_img(canvas)\n",
    "    print(np.unique(mask))\n",
    "    canvas, overlap = poisson.poisson_blend(src, mask, canvas, 'mix', 'temp')\n",
    "    \n",
    "    # normalize for next iteration\n",
    "    canvas = (canvas / 255.0).astype(np.float32)\n",
    "    \n",
    "canvas = (canvas * 255.0).astype(np.uint8)\n",
    "show_results(src, mask, canvas, this_o)\n",
    "    "
   ]
  },
  {
   "cell_type": "code",
   "execution_count": 14,
   "metadata": {},
   "outputs": [
    {
     "name": "stdout",
     "output_type": "stream",
     "text": [
      "(100, 200)\n"
     ]
    },
    {
     "data": {
      "image/png": "[encoded data removed]",
      "text/plain": [
       "<Figure size 1000x500 with 2 Axes>"
      ]
     },
     "metadata": {},
     "output_type": "display_data"
    }
   ],
   "source": [
    "src = np.zeros((100, 200), dtype=np.uint8)\n",
    "cv2.rectangle(src, (50, 25), (150, 75), 128, -1)  # Gray rectangle\n",
    "cv2.rectangle(src, (75, 50), (125, 100), 255, -1)  # White rectangle\n",
    "\n",
    "# Step 2: Apply Otsu's thresholding\n",
    "ret, mask = cv2.threshold(src, 0, 255, cv2.THRESH_OTSU)\n",
    "print(mask.shape)\n",
    "\n",
    "\n",
    "# Step 3: Display the original and thresholded images\n",
    "plt.figure(figsize=(10, 5))\n",
    "\n",
    "plt.subplot(1, 2, 1)\n",
    "plt.title('Original Grayscale Image')\n",
    "plt.imshow(src, cmap='gray')\n",
    "plt.axis('off')\n",
    "\n",
    "plt.subplot(1, 2, 2)\n",
    "plt.title(\"Otsu's Thresholding\")\n",
    "plt.imshow(mask, cmap='gray')\n",
    "plt.axis('off')\n",
    "\n",
    "plt.show()"
   ]
  }
 ],
 "metadata": {
  "kernelspec": {
   "display_name": "dip-proj-env",
   "language": "python",
   "name": "python3"
  },
  "language_info": {
   "codemirror_mode": {
    "name": "ipython",
    "version": 3
   },
   "file_extension": ".py",
   "mimetype": "text/x-python",
   "name": "python",
   "nbconvert_exporter": "python",
   "pygments_lexer": "ipython3",
   "version": "3.8.19"
  }
 },
 "nbformat": 4,
 "nbformat_minor": 2
}
